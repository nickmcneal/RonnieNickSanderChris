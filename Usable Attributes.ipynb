{
 "cells": [
  {
   "cell_type": "markdown",
   "metadata": {},
   "source": [
    "This notebook opens several json files (the ones listed in well_formatted_json_files.txt) and puts them in the same dataframe. It adds two columns to this dataframe: One ('species') indicates whether the account is a human or a bot. The other ('source') says which dataset this account came from (like 'verfied-2018', etc.)\n",
    "\n",
    "The final dataset (`trimmed_raw_data`) should hopefully be a good foundation to build an ML model off of. We still need to reformat the data, like by one-hot-encoding categorical variables.\n",
    "\n",
    "Here is a link to a data dictionary (which explains what the column names mean): https://developer.twitter.com/en/docs/tweets/data-dictionary/overview/user-object."
   ]
  },
  {
   "cell_type": "markdown",
   "metadata": {},
   "source": [
    "These should be the column names provided by the Twitter API:\n",
    "\n",
    "* profile_sidebar_border_color\n",
    "* name\n",
    "* profile_background_image_url\n",
    "* listed_count\n",
    "* favourites_count\n",
    "* created_at\n",
    "* followers_count\n",
    "* friends_count\n",
    "* profile_background_color\n",
    "* id_str\n",
    "* is_translation_enabled\n",
    "* translator_type\n",
    "* profile_use_background_image\n",
    "* notifications\n",
    "* is_translator\n",
    "* profile_sidebar_fill_color\n",
    "* utc_offset\n",
    "* follow_request_sent\n",
    "* default_profile\n",
    "* id\n",
    "* verified\n",
    "* default_profile_image\n",
    "* profile_text_color\n",
    "* entities\n",
    "* profile_background_tile\n",
    "* protected\n",
    "* profile_background_image_url_https\n",
    "* location\n",
    "* profile_image_url\n",
    "* following\n",
    "* lang\n",
    "* geo_enabled\n",
    "* time_zone\n",
    "* profile_image_url_https\n",
    "* profile_link_color\n",
    "* url\n",
    "* statuses_count\n",
    "* screen_name\n",
    "* has_extended_profile\n",
    "* description\n",
    "* contributors_enabled\n",
    "\n",
    "Here is a dictionary for all this: https://developer.twitter.com/en/docs/tweets/data-dictionary/overview/user-object. The Twitter API dictionary says not all of these attributes are still used; some are deprecated and null in every entry. However, as the next section shows, most of the attributes in the datasets are usable after all. (They must have been deprecated from the API sometime after this data was collected.)"
   ]
  },
  {
   "cell_type": "markdown",
   "metadata": {},
   "source": [
    "## Front matter"
   ]
  },
  {
   "cell_type": "code",
   "execution_count": 18,
   "metadata": {},
   "outputs": [],
   "source": [
    "from pathlib import Path # For navigating to the datafiles\n",
    "import json # For processing json files\n",
    "import csv # For processing csv files\n",
    "\n",
    "from functools import reduce # So Chris can pretend he's a CS major\n",
    "\n",
    "import collections\n",
    "\n",
    "import pandas as pd\n",
    "import numpy as np\n",
    "\n",
    "import matplotlib.pyplot as plt # For simple graphing\n",
    "import seaborn as sns # For sns.set_style(\"whitegrid\"), I guess?\n",
    "\n",
    "## This sets the plot style\n",
    "## to have a grid on a white background\n",
    "sns.set_style(\"whitegrid\")"
   ]
  },
  {
   "cell_type": "markdown",
   "metadata": {},
   "source": [
    "## Load json data into raw dataframes"
   ]
  },
  {
   "cell_type": "code",
   "execution_count": 3,
   "metadata": {},
   "outputs": [
    {
     "name": "stdout",
     "output_type": "stream",
     "text": [
      "10\n"
     ]
    }
   ],
   "source": [
    "# Read \"well_formatted_json_files.txt\"\n",
    "\n",
    "data_files_to_read_path = Path('well_formatted_json_files.txt')\n",
    "with open(data_files_to_read_path) as file:\n",
    "    lines = file.read().splitlines()\n",
    "    # Remove commented lines and blank lines:\n",
    "    lines = [li for li in lines if ((li[0] != '#') and ( li.strip()))]\n",
    "    print(len(lines))"
   ]
  },
  {
   "cell_type": "code",
   "execution_count": 4,
   "metadata": {},
   "outputs": [],
   "source": [
    "# Read in json and tsv files\n",
    "\n",
    "data_path = Path('data')\n",
    "\n",
    "l = list()\n",
    "for li in lines:\n",
    "    # Read into dataframes\n",
    "    \n",
    "    json_path = data_path / Path(li + '_tweets.json')\n",
    "    with open(json_path) as file:\n",
    "        very_raw_json_contents = json.load(file)\n",
    "    raw_json_contents = [x['user'] for x in very_raw_json_contents]\n",
    "    json_contents = pd.DataFrame(raw_json_contents)\n",
    "    tsv_path = data_path / Path(li + '.tsv')\n",
    "    tsv_contents = pd.read_csv(tsv_path, sep='\\t')\n",
    "    tsv_contents.columns = ['user_id','species']\n",
    "    \n",
    "    # Set indexes to user ids and remove duplicate indices\n",
    "        \n",
    "    json_contents = json_contents.set_index('id')\n",
    "    tsv_contents = tsv_contents.set_index('user_id')\n",
    "    json_contents = json_contents.loc[~json_contents.index.duplicated(keep='last')]\n",
    "    tsv_contents = tsv_contents.loc[~tsv_contents.index.duplicated(keep='last')]\n",
    "    \n",
    "    # Merge\n",
    "    \n",
    "    merged_data = pd.concat([json_contents, tsv_contents], join='inner', axis = 1)\n",
    "    merged_data = merged_data.assign(source=li)\n",
    "    \n",
    "    l.append(merged_data)\n",
    "\n",
    "\n",
    "cumulative_raw_data = reduce(lambda x, y : pd.concat([x,y]), l)"
   ]
  },
  {
   "cell_type": "markdown",
   "metadata": {},
   "source": [
    "Be cautioned that some of the entries in the dataframe are json objects that got turned into python dictionaries. Python dictionaries are not hashable, so this can cause methods like `df.drop_duplicates` to fail. Perhaps remove these unhashable columns..."
   ]
  },
  {
   "cell_type": "code",
   "execution_count": 5,
   "metadata": {},
   "outputs": [
    {
     "data": {
      "text/html": [
       "<div>\n",
       "<style scoped>\n",
       "    .dataframe tbody tr th:only-of-type {\n",
       "        vertical-align: middle;\n",
       "    }\n",
       "\n",
       "    .dataframe tbody tr th {\n",
       "        vertical-align: top;\n",
       "    }\n",
       "\n",
       "    .dataframe thead th {\n",
       "        text-align: right;\n",
       "    }\n",
       "</style>\n",
       "<table border=\"1\" class=\"dataframe\">\n",
       "  <thead>\n",
       "    <tr style=\"text-align: right;\">\n",
       "      <th></th>\n",
       "      <th>follow_request_sent</th>\n",
       "      <th>has_extended_profile</th>\n",
       "      <th>profile_use_background_image</th>\n",
       "      <th>default_profile_image</th>\n",
       "      <th>profile_background_image_url_https</th>\n",
       "      <th>verified</th>\n",
       "      <th>translator_type</th>\n",
       "      <th>profile_text_color</th>\n",
       "      <th>profile_image_url_https</th>\n",
       "      <th>profile_sidebar_fill_color</th>\n",
       "      <th>...</th>\n",
       "      <th>url</th>\n",
       "      <th>created_at</th>\n",
       "      <th>contributors_enabled</th>\n",
       "      <th>time_zone</th>\n",
       "      <th>protected</th>\n",
       "      <th>default_profile</th>\n",
       "      <th>is_translator</th>\n",
       "      <th>species</th>\n",
       "      <th>source</th>\n",
       "      <th>withheld_in_countries</th>\n",
       "    </tr>\n",
       "  </thead>\n",
       "  <tbody>\n",
       "    <tr>\n",
       "      <th>602249341</th>\n",
       "      <td>False</td>\n",
       "      <td>False</td>\n",
       "      <td>False</td>\n",
       "      <td>False</td>\n",
       "      <td>https://abs.twimg.com/images/themes/theme4/bg.gif</td>\n",
       "      <td>False</td>\n",
       "      <td>none</td>\n",
       "      <td>000000</td>\n",
       "      <td>https://pbs.twimg.com/profile_images/923924342...</td>\n",
       "      <td>000000</td>\n",
       "      <td>...</td>\n",
       "      <td>https://t.co/e5t6p9w7D8</td>\n",
       "      <td>Thu Jun 07 22:16:27 +0000 2012</td>\n",
       "      <td>False</td>\n",
       "      <td>London</td>\n",
       "      <td>False</td>\n",
       "      <td>False</td>\n",
       "      <td>False</td>\n",
       "      <td>human</td>\n",
       "      <td>botometer-feedback-2019</td>\n",
       "      <td>NaN</td>\n",
       "    </tr>\n",
       "    <tr>\n",
       "      <th>797617218511060992</th>\n",
       "      <td>False</td>\n",
       "      <td>True</td>\n",
       "      <td>False</td>\n",
       "      <td>False</td>\n",
       "      <td>https://abs.twimg.com/images/themes/theme1/bg.png</td>\n",
       "      <td>False</td>\n",
       "      <td>none</td>\n",
       "      <td>000000</td>\n",
       "      <td>https://pbs.twimg.com/profile_images/855244571...</td>\n",
       "      <td>000000</td>\n",
       "      <td>...</td>\n",
       "      <td>None</td>\n",
       "      <td>Sun Nov 13 01:48:58 +0000 2016</td>\n",
       "      <td>False</td>\n",
       "      <td>Pacific Time (US &amp; Canada)</td>\n",
       "      <td>False</td>\n",
       "      <td>False</td>\n",
       "      <td>False</td>\n",
       "      <td>bot</td>\n",
       "      <td>botometer-feedback-2019</td>\n",
       "      <td>NaN</td>\n",
       "    </tr>\n",
       "    <tr>\n",
       "      <th>889925474</th>\n",
       "      <td>False</td>\n",
       "      <td>False</td>\n",
       "      <td>True</td>\n",
       "      <td>False</td>\n",
       "      <td>https://pbs.twimg.com/profile_background_image...</td>\n",
       "      <td>False</td>\n",
       "      <td>none</td>\n",
       "      <td>333333</td>\n",
       "      <td>https://pbs.twimg.com/profile_images/964079832...</td>\n",
       "      <td>DDEEF6</td>\n",
       "      <td>...</td>\n",
       "      <td>http://t.co/7gh2Iu1AT4</td>\n",
       "      <td>Thu Oct 18 23:19:38 +0000 2012</td>\n",
       "      <td>False</td>\n",
       "      <td>None</td>\n",
       "      <td>False</td>\n",
       "      <td>False</td>\n",
       "      <td>False</td>\n",
       "      <td>human</td>\n",
       "      <td>botometer-feedback-2019</td>\n",
       "      <td>NaN</td>\n",
       "    </tr>\n",
       "    <tr>\n",
       "      <th>96435556</th>\n",
       "      <td>False</td>\n",
       "      <td>True</td>\n",
       "      <td>True</td>\n",
       "      <td>False</td>\n",
       "      <td>https://abs.twimg.com/images/themes/theme6/bg.gif</td>\n",
       "      <td>False</td>\n",
       "      <td>none</td>\n",
       "      <td>333333</td>\n",
       "      <td>https://pbs.twimg.com/profile_images/311429969...</td>\n",
       "      <td>A0C5C7</td>\n",
       "      <td>...</td>\n",
       "      <td>None</td>\n",
       "      <td>Sat Dec 12 22:53:04 +0000 2009</td>\n",
       "      <td>False</td>\n",
       "      <td>Rome</td>\n",
       "      <td>False</td>\n",
       "      <td>False</td>\n",
       "      <td>False</td>\n",
       "      <td>bot</td>\n",
       "      <td>botometer-feedback-2019</td>\n",
       "      <td>NaN</td>\n",
       "    </tr>\n",
       "    <tr>\n",
       "      <th>16905397</th>\n",
       "      <td>False</td>\n",
       "      <td>False</td>\n",
       "      <td>True</td>\n",
       "      <td>False</td>\n",
       "      <td>https://pbs.twimg.com/profile_background_image...</td>\n",
       "      <td>False</td>\n",
       "      <td>regular</td>\n",
       "      <td>666666</td>\n",
       "      <td>https://pbs.twimg.com/profile_images/969705141...</td>\n",
       "      <td>252429</td>\n",
       "      <td>...</td>\n",
       "      <td>https://t.co/VRgsX8eVR2</td>\n",
       "      <td>Wed Oct 22 13:43:42 +0000 2008</td>\n",
       "      <td>False</td>\n",
       "      <td>Bern</td>\n",
       "      <td>False</td>\n",
       "      <td>False</td>\n",
       "      <td>False</td>\n",
       "      <td>human</td>\n",
       "      <td>botometer-feedback-2019</td>\n",
       "      <td>NaN</td>\n",
       "    </tr>\n",
       "    <tr>\n",
       "      <th>...</th>\n",
       "      <td>...</td>\n",
       "      <td>...</td>\n",
       "      <td>...</td>\n",
       "      <td>...</td>\n",
       "      <td>...</td>\n",
       "      <td>...</td>\n",
       "      <td>...</td>\n",
       "      <td>...</td>\n",
       "      <td>...</td>\n",
       "      <td>...</td>\n",
       "      <td>...</td>\n",
       "      <td>...</td>\n",
       "      <td>...</td>\n",
       "      <td>...</td>\n",
       "      <td>...</td>\n",
       "      <td>...</td>\n",
       "      <td>...</td>\n",
       "      <td>...</td>\n",
       "      <td>...</td>\n",
       "      <td>...</td>\n",
       "      <td>...</td>\n",
       "    </tr>\n",
       "    <tr>\n",
       "      <th>76235237</th>\n",
       "      <td>False</td>\n",
       "      <td>True</td>\n",
       "      <td>False</td>\n",
       "      <td>False</td>\n",
       "      <td>https://abs.twimg.com/images/themes/theme14/bg...</td>\n",
       "      <td>True</td>\n",
       "      <td>none</td>\n",
       "      <td>000000</td>\n",
       "      <td>https://pbs.twimg.com/profile_images/969605999...</td>\n",
       "      <td>000000</td>\n",
       "      <td>...</td>\n",
       "      <td>https://t.co/XWFZ4aqcZ4</td>\n",
       "      <td>Tue Sep 22 03:10:00 +0000 2009</td>\n",
       "      <td>False</td>\n",
       "      <td>None</td>\n",
       "      <td>False</td>\n",
       "      <td>False</td>\n",
       "      <td>False</td>\n",
       "      <td>human</td>\n",
       "      <td>verified-2019</td>\n",
       "      <td>NaN</td>\n",
       "    </tr>\n",
       "    <tr>\n",
       "      <th>2159329092</th>\n",
       "      <td>False</td>\n",
       "      <td>False</td>\n",
       "      <td>False</td>\n",
       "      <td>False</td>\n",
       "      <td>https://abs.twimg.com/images/themes/theme1/bg.png</td>\n",
       "      <td>True</td>\n",
       "      <td>none</td>\n",
       "      <td>000000</td>\n",
       "      <td>https://pbs.twimg.com/profile_images/112290924...</td>\n",
       "      <td>000000</td>\n",
       "      <td>...</td>\n",
       "      <td>https://t.co/OJ69l0pxyk</td>\n",
       "      <td>Sun Oct 27 17:46:59 +0000 2013</td>\n",
       "      <td>False</td>\n",
       "      <td>None</td>\n",
       "      <td>False</td>\n",
       "      <td>False</td>\n",
       "      <td>False</td>\n",
       "      <td>human</td>\n",
       "      <td>verified-2019</td>\n",
       "      <td>NaN</td>\n",
       "    </tr>\n",
       "    <tr>\n",
       "      <th>25527618</th>\n",
       "      <td>False</td>\n",
       "      <td>True</td>\n",
       "      <td>True</td>\n",
       "      <td>False</td>\n",
       "      <td>https://abs.twimg.com/images/themes/theme10/bg...</td>\n",
       "      <td>True</td>\n",
       "      <td>none</td>\n",
       "      <td>3D1957</td>\n",
       "      <td>https://pbs.twimg.com/profile_images/110004956...</td>\n",
       "      <td>7AC3EE</td>\n",
       "      <td>...</td>\n",
       "      <td>https://t.co/IiGhu084D5</td>\n",
       "      <td>Fri Mar 20 16:12:36 +0000 2009</td>\n",
       "      <td>False</td>\n",
       "      <td>None</td>\n",
       "      <td>False</td>\n",
       "      <td>False</td>\n",
       "      <td>False</td>\n",
       "      <td>human</td>\n",
       "      <td>verified-2019</td>\n",
       "      <td>NaN</td>\n",
       "    </tr>\n",
       "    <tr>\n",
       "      <th>43654274</th>\n",
       "      <td>False</td>\n",
       "      <td>False</td>\n",
       "      <td>True</td>\n",
       "      <td>False</td>\n",
       "      <td>https://abs.twimg.com/images/themes/theme14/bg...</td>\n",
       "      <td>True</td>\n",
       "      <td>none</td>\n",
       "      <td>333333</td>\n",
       "      <td>https://pbs.twimg.com/profile_images/297271636...</td>\n",
       "      <td>EFEFEF</td>\n",
       "      <td>...</td>\n",
       "      <td>https://t.co/wBpiJ5kRRf</td>\n",
       "      <td>Sun May 31 06:37:34 +0000 2009</td>\n",
       "      <td>False</td>\n",
       "      <td>None</td>\n",
       "      <td>False</td>\n",
       "      <td>False</td>\n",
       "      <td>False</td>\n",
       "      <td>human</td>\n",
       "      <td>verified-2019</td>\n",
       "      <td>NaN</td>\n",
       "    </tr>\n",
       "    <tr>\n",
       "      <th>19084210</th>\n",
       "      <td>False</td>\n",
       "      <td>False</td>\n",
       "      <td>True</td>\n",
       "      <td>False</td>\n",
       "      <td>https://abs.twimg.com/images/themes/theme6/bg.gif</td>\n",
       "      <td>True</td>\n",
       "      <td>none</td>\n",
       "      <td>333333</td>\n",
       "      <td>https://pbs.twimg.com/profile_images/109905347...</td>\n",
       "      <td>E3DADA</td>\n",
       "      <td>...</td>\n",
       "      <td>None</td>\n",
       "      <td>Fri Jan 16 20:37:03 +0000 2009</td>\n",
       "      <td>False</td>\n",
       "      <td>None</td>\n",
       "      <td>False</td>\n",
       "      <td>False</td>\n",
       "      <td>False</td>\n",
       "      <td>human</td>\n",
       "      <td>verified-2019</td>\n",
       "      <td>NaN</td>\n",
       "    </tr>\n",
       "  </tbody>\n",
       "</table>\n",
       "<p>44595 rows × 44 columns</p>\n",
       "</div>"
      ],
      "text/plain": [
       "                    follow_request_sent  has_extended_profile  \\\n",
       "602249341                         False                 False   \n",
       "797617218511060992                False                  True   \n",
       "889925474                         False                 False   \n",
       "96435556                          False                  True   \n",
       "16905397                          False                 False   \n",
       "...                                 ...                   ...   \n",
       "76235237                          False                  True   \n",
       "2159329092                        False                 False   \n",
       "25527618                          False                  True   \n",
       "43654274                          False                 False   \n",
       "19084210                          False                 False   \n",
       "\n",
       "                    profile_use_background_image  default_profile_image  \\\n",
       "602249341                                  False                  False   \n",
       "797617218511060992                         False                  False   \n",
       "889925474                                   True                  False   \n",
       "96435556                                    True                  False   \n",
       "16905397                                    True                  False   \n",
       "...                                          ...                    ...   \n",
       "76235237                                   False                  False   \n",
       "2159329092                                 False                  False   \n",
       "25527618                                    True                  False   \n",
       "43654274                                    True                  False   \n",
       "19084210                                    True                  False   \n",
       "\n",
       "                                   profile_background_image_url_https  \\\n",
       "602249341           https://abs.twimg.com/images/themes/theme4/bg.gif   \n",
       "797617218511060992  https://abs.twimg.com/images/themes/theme1/bg.png   \n",
       "889925474           https://pbs.twimg.com/profile_background_image...   \n",
       "96435556            https://abs.twimg.com/images/themes/theme6/bg.gif   \n",
       "16905397            https://pbs.twimg.com/profile_background_image...   \n",
       "...                                                               ...   \n",
       "76235237            https://abs.twimg.com/images/themes/theme14/bg...   \n",
       "2159329092          https://abs.twimg.com/images/themes/theme1/bg.png   \n",
       "25527618            https://abs.twimg.com/images/themes/theme10/bg...   \n",
       "43654274            https://abs.twimg.com/images/themes/theme14/bg...   \n",
       "19084210            https://abs.twimg.com/images/themes/theme6/bg.gif   \n",
       "\n",
       "                    verified translator_type profile_text_color  \\\n",
       "602249341              False            none             000000   \n",
       "797617218511060992     False            none             000000   \n",
       "889925474              False            none             333333   \n",
       "96435556               False            none             333333   \n",
       "16905397               False         regular             666666   \n",
       "...                      ...             ...                ...   \n",
       "76235237                True            none             000000   \n",
       "2159329092              True            none             000000   \n",
       "25527618                True            none             3D1957   \n",
       "43654274                True            none             333333   \n",
       "19084210                True            none             333333   \n",
       "\n",
       "                                              profile_image_url_https  \\\n",
       "602249341           https://pbs.twimg.com/profile_images/923924342...   \n",
       "797617218511060992  https://pbs.twimg.com/profile_images/855244571...   \n",
       "889925474           https://pbs.twimg.com/profile_images/964079832...   \n",
       "96435556            https://pbs.twimg.com/profile_images/311429969...   \n",
       "16905397            https://pbs.twimg.com/profile_images/969705141...   \n",
       "...                                                               ...   \n",
       "76235237            https://pbs.twimg.com/profile_images/969605999...   \n",
       "2159329092          https://pbs.twimg.com/profile_images/112290924...   \n",
       "25527618            https://pbs.twimg.com/profile_images/110004956...   \n",
       "43654274            https://pbs.twimg.com/profile_images/297271636...   \n",
       "19084210            https://pbs.twimg.com/profile_images/109905347...   \n",
       "\n",
       "                   profile_sidebar_fill_color  ...                      url  \\\n",
       "602249341                              000000  ...  https://t.co/e5t6p9w7D8   \n",
       "797617218511060992                     000000  ...                     None   \n",
       "889925474                              DDEEF6  ...   http://t.co/7gh2Iu1AT4   \n",
       "96435556                               A0C5C7  ...                     None   \n",
       "16905397                               252429  ...  https://t.co/VRgsX8eVR2   \n",
       "...                                       ...  ...                      ...   \n",
       "76235237                               000000  ...  https://t.co/XWFZ4aqcZ4   \n",
       "2159329092                             000000  ...  https://t.co/OJ69l0pxyk   \n",
       "25527618                               7AC3EE  ...  https://t.co/IiGhu084D5   \n",
       "43654274                               EFEFEF  ...  https://t.co/wBpiJ5kRRf   \n",
       "19084210                               E3DADA  ...                     None   \n",
       "\n",
       "                                        created_at contributors_enabled  \\\n",
       "602249341           Thu Jun 07 22:16:27 +0000 2012                False   \n",
       "797617218511060992  Sun Nov 13 01:48:58 +0000 2016                False   \n",
       "889925474           Thu Oct 18 23:19:38 +0000 2012                False   \n",
       "96435556            Sat Dec 12 22:53:04 +0000 2009                False   \n",
       "16905397            Wed Oct 22 13:43:42 +0000 2008                False   \n",
       "...                                            ...                  ...   \n",
       "76235237            Tue Sep 22 03:10:00 +0000 2009                False   \n",
       "2159329092          Sun Oct 27 17:46:59 +0000 2013                False   \n",
       "25527618            Fri Mar 20 16:12:36 +0000 2009                False   \n",
       "43654274            Sun May 31 06:37:34 +0000 2009                False   \n",
       "19084210            Fri Jan 16 20:37:03 +0000 2009                False   \n",
       "\n",
       "                                     time_zone protected  default_profile  \\\n",
       "602249341                               London     False            False   \n",
       "797617218511060992  Pacific Time (US & Canada)     False            False   \n",
       "889925474                                 None     False            False   \n",
       "96435556                                  Rome     False            False   \n",
       "16905397                                  Bern     False            False   \n",
       "...                                        ...       ...              ...   \n",
       "76235237                                  None     False            False   \n",
       "2159329092                                None     False            False   \n",
       "25527618                                  None     False            False   \n",
       "43654274                                  None     False            False   \n",
       "19084210                                  None     False            False   \n",
       "\n",
       "                    is_translator species                   source  \\\n",
       "602249341                   False   human  botometer-feedback-2019   \n",
       "797617218511060992          False     bot  botometer-feedback-2019   \n",
       "889925474                   False   human  botometer-feedback-2019   \n",
       "96435556                    False     bot  botometer-feedback-2019   \n",
       "16905397                    False   human  botometer-feedback-2019   \n",
       "...                           ...     ...                      ...   \n",
       "76235237                    False   human            verified-2019   \n",
       "2159329092                  False   human            verified-2019   \n",
       "25527618                    False   human            verified-2019   \n",
       "43654274                    False   human            verified-2019   \n",
       "19084210                    False   human            verified-2019   \n",
       "\n",
       "                   withheld_in_countries  \n",
       "602249341                            NaN  \n",
       "797617218511060992                   NaN  \n",
       "889925474                            NaN  \n",
       "96435556                             NaN  \n",
       "16905397                             NaN  \n",
       "...                                  ...  \n",
       "76235237                             NaN  \n",
       "2159329092                           NaN  \n",
       "25527618                             NaN  \n",
       "43654274                             NaN  \n",
       "19084210                             NaN  \n",
       "\n",
       "[44595 rows x 44 columns]"
      ]
     },
     "execution_count": 5,
     "metadata": {},
     "output_type": "execute_result"
    }
   ],
   "source": [
    "cumulative_raw_data"
   ]
  },
  {
   "cell_type": "markdown",
   "metadata": {},
   "source": [
    "## What entries are in each attribute?"
   ]
  },
  {
   "cell_type": "markdown",
   "metadata": {},
   "source": [
    "First I started counting how many NA values were in each column:"
   ]
  },
  {
   "cell_type": "code",
   "execution_count": 6,
   "metadata": {},
   "outputs": [],
   "source": [
    "def how_na_are_cols(df_arg):\n",
    "    print(f'total number of observations is {len(df_arg)}')\n",
    "    print()\n",
    "    for col_name in df_arg.columns:\n",
    "        print('NA values in column {:35} : {}'.format(\n",
    "              col_name, df_arg[col_name].count()))"
   ]
  },
  {
   "cell_type": "code",
   "execution_count": 7,
   "metadata": {},
   "outputs": [
    {
     "name": "stdout",
     "output_type": "stream",
     "text": [
      "total number of observations is 44595\n",
      "\n",
      "NA values in column follow_request_sent                 : 44595\n",
      "NA values in column has_extended_profile                : 44595\n",
      "NA values in column profile_use_background_image        : 44595\n",
      "NA values in column default_profile_image               : 44595\n",
      "NA values in column profile_background_image_url_https  : 39647\n",
      "NA values in column verified                            : 44595\n",
      "NA values in column translator_type                     : 44595\n",
      "NA values in column profile_text_color                  : 44595\n",
      "NA values in column profile_image_url_https             : 44595\n",
      "NA values in column profile_sidebar_fill_color          : 44595\n",
      "NA values in column entities                            : 44595\n",
      "NA values in column followers_count                     : 44595\n",
      "NA values in column profile_sidebar_border_color        : 44595\n",
      "NA values in column id_str                              : 44595\n",
      "NA values in column profile_background_color            : 44595\n",
      "NA values in column listed_count                        : 44595\n",
      "NA values in column is_translation_enabled              : 44595\n",
      "NA values in column utc_offset                          : 8395\n",
      "NA values in column statuses_count                      : 44595\n",
      "NA values in column description                         : 44595\n",
      "NA values in column friends_count                       : 44595\n",
      "NA values in column location                            : 44595\n",
      "NA values in column profile_link_color                  : 44595\n",
      "NA values in column profile_image_url                   : 44595\n",
      "NA values in column following                           : 44595\n",
      "NA values in column geo_enabled                         : 44595\n",
      "NA values in column profile_banner_url                  : 36649\n",
      "NA values in column profile_background_image_url        : 39647\n",
      "NA values in column screen_name                         : 44595\n",
      "NA values in column lang                                : 41912\n",
      "NA values in column profile_background_tile             : 44595\n",
      "NA values in column favourites_count                    : 44595\n",
      "NA values in column name                                : 44595\n",
      "NA values in column notifications                       : 44595\n",
      "NA values in column url                                 : 12626\n",
      "NA values in column created_at                          : 44595\n",
      "NA values in column contributors_enabled                : 44595\n",
      "NA values in column time_zone                           : 8395\n",
      "NA values in column protected                           : 44595\n",
      "NA values in column default_profile                     : 44595\n",
      "NA values in column is_translator                       : 44595\n",
      "NA values in column species                             : 44595\n",
      "NA values in column source                              : 44595\n",
      "NA values in column withheld_in_countries               : 2\n"
     ]
    }
   ],
   "source": [
    "how_na_are_cols(cumulative_raw_data)"
   ]
  },
  {
   "cell_type": "code",
   "execution_count": 8,
   "metadata": {},
   "outputs": [
    {
     "data": {
      "text/plain": [
       "\"\\nthreshold = 40000\\n\\nna_cols = [x for x in cumulative_raw_data.columns\\n               if (cumulative_raw_data[x].count()\\n               <= threshold)]\\n\\ntrimmed_raw_data = cumulative_raw_data.drop(na_cols, axis = 1)\\n\\nprint('dropped these columns with more than {} non-NA values:'.format(threshold))\\nprint()\\nfor x in na_cols: print(x)\\nprint()\\nprint()\\nprint('These columns remain:')\\nprint()\\nfor x in trimmed_raw_data.columns: print(x)\\n\""
      ]
     },
     "execution_count": 8,
     "metadata": {},
     "output_type": "execute_result"
    }
   ],
   "source": [
    "# Inspect how many null values are in each column\n",
    "# I commented this out because I can do this better with value_counts(dropna=False)\n",
    "'''\n",
    "threshold = 40000\n",
    "\n",
    "na_cols = [x for x in cumulative_raw_data.columns\n",
    "               if (cumulative_raw_data[x].count()\n",
    "               <= threshold)]\n",
    "\n",
    "trimmed_raw_data = cumulative_raw_data.drop(na_cols, axis = 1)\n",
    "\n",
    "print('dropped these columns with more than {} non-NA values:'.format(threshold))\n",
    "print()\n",
    "for x in na_cols: print(x)\n",
    "print()\n",
    "print()\n",
    "print('These columns remain:')\n",
    "print()\n",
    "for x in trimmed_raw_data.columns: print(x)\n",
    "'''"
   ]
  },
  {
   "cell_type": "markdown",
   "metadata": {},
   "source": [
    "It turns out that the non-hashable entries in the notebook are causing problems, so I threw them out:"
   ]
  },
  {
   "cell_type": "code",
   "execution_count": 64,
   "metadata": {},
   "outputs": [
    {
     "name": "stdout",
     "output_type": "stream",
     "text": [
      "column entities not always hashable\n",
      "column withheld_in_countries not always hashable\n"
     ]
    }
   ],
   "source": [
    "unhashable_cols = set()\n",
    "for col in cumulative_raw_data.sample(20, random_state = 855):\n",
    "    if any([not isinstance(x, collections.Hashable) for x in cumulative_raw_data[col]]):\n",
    "        print('column', col, 'not always hashable')\n",
    "        unhashable_cols.add(col)"
   ]
  },
  {
   "cell_type": "code",
   "execution_count": 61,
   "metadata": {},
   "outputs": [
    {
     "name": "stdout",
     "output_type": "stream",
     "text": [
      "2 columns dropped\n"
     ]
    }
   ],
   "source": [
    "hashable_raw_data = cumulative_raw_data.drop(unhashable_cols, axis=1)\n",
    "\n",
    "print(f'{len(cumulative_raw_data.columns)-len(hashable_raw_data.columns)} columns dropped')"
   ]
  },
  {
   "cell_type": "markdown",
   "metadata": {},
   "source": [
    "Now we're in a position to examine the most common entries in every column:"
   ]
  },
  {
   "cell_type": "code",
   "execution_count": 63,
   "metadata": {
    "scrolled": false
   },
   "outputs": [
    {
     "name": "stdout",
     "output_type": "stream",
     "text": [
      "~~~ follow_request_sent ~~~\n"
     ]
    },
    {
     "data": {
      "text/plain": [
       "False    44595\n",
       "Name: follow_request_sent, dtype: int64"
      ]
     },
     "metadata": {},
     "output_type": "display_data"
    },
    {
     "name": "stdout",
     "output_type": "stream",
     "text": [
      "\n",
      "~~~ has_extended_profile ~~~\n"
     ]
    },
    {
     "data": {
      "text/plain": [
       "False    36158\n",
       "True      8437\n",
       "Name: has_extended_profile, dtype: int64"
      ]
     },
     "metadata": {},
     "output_type": "display_data"
    },
    {
     "name": "stdout",
     "output_type": "stream",
     "text": [
      "\n",
      "~~~ profile_use_background_image ~~~\n"
     ]
    },
    {
     "data": {
      "text/plain": [
       "True     40601\n",
       "False     3994\n",
       "Name: profile_use_background_image, dtype: int64"
      ]
     },
     "metadata": {},
     "output_type": "display_data"
    },
    {
     "name": "stdout",
     "output_type": "stream",
     "text": [
      "\n",
      "~~~ default_profile_image ~~~\n"
     ]
    },
    {
     "data": {
      "text/plain": [
       "False    44106\n",
       "True       489\n",
       "Name: default_profile_image, dtype: int64"
      ]
     },
     "metadata": {},
     "output_type": "display_data"
    },
    {
     "name": "stdout",
     "output_type": "stream",
     "text": [
      "\n",
      "~~~ profile_background_image_url_https ~~~\n"
     ]
    },
    {
     "data": {
      "text/plain": [
       "https://abs.twimg.com/images/themes/theme1/bg.png     27607\n",
       "NaN                                                    4948\n",
       "https://abs.twimg.com/images/themes/theme14/bg.gif     1513\n",
       "https://abs.twimg.com/images/themes/theme9/bg.gif       973\n",
       "https://abs.twimg.com/images/themes/theme10/bg.gif      579\n",
       "Name: profile_background_image_url_https, dtype: int64"
      ]
     },
     "metadata": {},
     "output_type": "display_data"
    },
    {
     "name": "stdout",
     "output_type": "stream",
     "text": [
      "\n",
      "~~~ verified ~~~\n"
     ]
    },
    {
     "data": {
      "text/plain": [
       "False    37307\n",
       "True      7288\n",
       "Name: verified, dtype: int64"
      ]
     },
     "metadata": {},
     "output_type": "display_data"
    },
    {
     "name": "stdout",
     "output_type": "stream",
     "text": [
      "\n",
      "~~~ translator_type ~~~\n"
     ]
    },
    {
     "data": {
      "text/plain": [
       "none         43421\n",
       "regular       1164\n",
       "badged           8\n",
       "moderator        2\n",
       "Name: translator_type, dtype: int64"
      ]
     },
     "metadata": {},
     "output_type": "display_data"
    },
    {
     "name": "stdout",
     "output_type": "stream",
     "text": [
      "\n",
      "~~~ profile_text_color ~~~\n"
     ]
    },
    {
     "data": {
      "text/plain": [
       "333333    35194\n",
       "000000     3472\n",
       "666666     1140\n",
       "3D1957      551\n",
       "3C3940      435\n",
       "Name: profile_text_color, dtype: int64"
      ]
     },
     "metadata": {},
     "output_type": "display_data"
    },
    {
     "name": "stdout",
     "output_type": "stream",
     "text": [
      "\n",
      "~~~ profile_image_url_https ~~~\n"
     ]
    },
    {
     "data": {
      "text/plain": [
       "https://abs.twimg.com/sticky/default_profile_images/default_profile_normal.png    489\n",
       "https://pbs.twimg.com/profile_images/897733049370251265/_9TrrWY__normal.jpg         2\n",
       "https://pbs.twimg.com/profile_images/437757958085414912/vmUt7tpc_normal.jpeg        2\n",
       "https://pbs.twimg.com/profile_images/947789418328350720/YJ0hdsbA_normal.jpg         2\n",
       "https://pbs.twimg.com/profile_images/627504688611610624/0Ej34t6a_normal.jpg         2\n",
       "Name: profile_image_url_https, dtype: int64"
      ]
     },
     "metadata": {},
     "output_type": "display_data"
    },
    {
     "name": "stdout",
     "output_type": "stream",
     "text": [
      "\n",
      "~~~ profile_sidebar_fill_color ~~~\n"
     ]
    },
    {
     "data": {
      "text/plain": [
       "DDEEF6    30735\n",
       "000000     3045\n",
       "EFEFEF     1630\n",
       "252429     1122\n",
       "FFFFFF      577\n",
       "Name: profile_sidebar_fill_color, dtype: int64"
      ]
     },
     "metadata": {},
     "output_type": "display_data"
    },
    {
     "name": "stdout",
     "output_type": "stream",
     "text": [
      "\n",
      "~~~ followers_count ~~~\n"
     ]
    },
    {
     "data": {
      "text/plain": [
       "0    1201\n",
       "5     878\n",
       "1     843\n",
       "8     823\n",
       "6     819\n",
       "Name: followers_count, dtype: int64"
      ]
     },
     "metadata": {},
     "output_type": "display_data"
    },
    {
     "name": "stdout",
     "output_type": "stream",
     "text": [
      "\n",
      "~~~ profile_sidebar_border_color ~~~\n"
     ]
    },
    {
     "data": {
      "text/plain": [
       "C0DEED    28380\n",
       "FFFFFF     5121\n",
       "000000     4649\n",
       "EEEEEE     1327\n",
       "181A1E      770\n",
       "Name: profile_sidebar_border_color, dtype: int64"
      ]
     },
     "metadata": {},
     "output_type": "display_data"
    },
    {
     "name": "stdout",
     "output_type": "stream",
     "text": [
      "\n",
      "~~~ id_str ~~~\n"
     ]
    },
    {
     "data": {
      "text/plain": [
       "304679484     3\n",
       "46440103      2\n",
       "46476526      2\n",
       "2295217322    2\n",
       "26534759      2\n",
       "Name: id_str, dtype: int64"
      ]
     },
     "metadata": {},
     "output_type": "display_data"
    },
    {
     "name": "stdout",
     "output_type": "stream",
     "text": [
      "\n",
      "~~~ profile_background_color ~~~\n"
     ]
    },
    {
     "data": {
      "text/plain": [
       "C0DEED    24250\n",
       "F5F8FA     4952\n",
       "000000     3533\n",
       "131516     1632\n",
       "1A1B1F     1091\n",
       "Name: profile_background_color, dtype: int64"
      ]
     },
     "metadata": {},
     "output_type": "display_data"
    },
    {
     "name": "stdout",
     "output_type": "stream",
     "text": [
      "\n",
      "~~~ listed_count ~~~\n"
     ]
    },
    {
     "data": {
      "text/plain": [
       "0    23635\n",
       "1     3511\n",
       "2     1655\n",
       "3     1007\n",
       "4      598\n",
       "Name: listed_count, dtype: int64"
      ]
     },
     "metadata": {},
     "output_type": "display_data"
    },
    {
     "name": "stdout",
     "output_type": "stream",
     "text": [
      "\n",
      "~~~ is_translation_enabled ~~~\n"
     ]
    },
    {
     "data": {
      "text/plain": [
       "False    43942\n",
       "True       653\n",
       "Name: is_translation_enabled, dtype: int64"
      ]
     },
     "metadata": {},
     "output_type": "display_data"
    },
    {
     "name": "stdout",
     "output_type": "stream",
     "text": [
      "\n",
      "~~~ utc_offset ~~~\n"
     ]
    },
    {
     "data": {
      "text/plain": [
       " NaN        36200\n",
       "-25200.0     1520\n",
       "-14400.0      956\n",
       "-18000.0      947\n",
       "-10800.0      910\n",
       "Name: utc_offset, dtype: int64"
      ]
     },
     "metadata": {},
     "output_type": "display_data"
    },
    {
     "name": "stdout",
     "output_type": "stream",
     "text": [
      "\n",
      "~~~ statuses_count ~~~\n"
     ]
    },
    {
     "data": {
      "text/plain": [
       "28    354\n",
       "25    340\n",
       "24    327\n",
       "23    321\n",
       "27    318\n",
       "Name: statuses_count, dtype: int64"
      ]
     },
     "metadata": {},
     "output_type": "display_data"
    },
    {
     "name": "stdout",
     "output_type": "stream",
     "text": [
      "\n",
      "~~~ description ~~~\n"
     ]
    },
    {
     "data": {
      "text/plain": [
       "                                                                                                                                                    6023\n",
       ".                                                                                                                                                     11\n",
       "Actor                                                                                                                                                 10\n",
       "We #followback Right-Minded Patriots & Liberty Republicans from any State. Part of the MAGOP Project - Learn More On the Web About What We Do #2       9\n",
       "We #followback Right-Minded Patriots & Liberty Republicans from any State. Part of the MAGOP Project - Learn More On the Web About What We Do #3       8\n",
       "Name: description, dtype: int64"
      ]
     },
     "metadata": {},
     "output_type": "display_data"
    },
    {
     "name": "stdout",
     "output_type": "stream",
     "text": [
      "\n",
      "~~~ friends_count ~~~\n"
     ]
    },
    {
     "data": {
      "text/plain": [
       "0    19072\n",
       "1      329\n",
       "2      244\n",
       "3      171\n",
       "4      148\n",
       "Name: friends_count, dtype: int64"
      ]
     },
     "metadata": {},
     "output_type": "display_data"
    },
    {
     "name": "stdout",
     "output_type": "stream",
     "text": [
      "\n",
      "~~~ location ~~~\n"
     ]
    },
    {
     "data": {
      "text/plain": [
       "                   24581\n",
       "Los Angeles, CA      275\n",
       "New York, NY         224\n",
       "Los Angeles          173\n",
       "United States        157\n",
       "Name: location, dtype: int64"
      ]
     },
     "metadata": {},
     "output_type": "display_data"
    },
    {
     "name": "stdout",
     "output_type": "stream",
     "text": [
      "\n",
      "~~~ profile_link_color ~~~\n"
     ]
    },
    {
     "data": {
      "text/plain": [
       "1DA1F2    26882\n",
       "0084B4     2969\n",
       "009999     1207\n",
       "2FC2EF      865\n",
       "FF0000      638\n",
       "Name: profile_link_color, dtype: int64"
      ]
     },
     "metadata": {},
     "output_type": "display_data"
    },
    {
     "name": "stdout",
     "output_type": "stream",
     "text": [
      "\n",
      "~~~ profile_image_url ~~~\n"
     ]
    },
    {
     "data": {
      "text/plain": [
       "http://abs.twimg.com/sticky/default_profile_images/default_profile_normal.png    489\n",
       "http://pbs.twimg.com/profile_images/492878662446768128/BHP_9bkq_normal.jpeg        2\n",
       "http://pbs.twimg.com/profile_images/896850928422141952/-spcGI8__normal.jpg         2\n",
       "http://pbs.twimg.com/profile_images/676011489191301121/Cw6In7Xc_normal.jpg         2\n",
       "http://pbs.twimg.com/profile_images/431276795216678912/K9GgLuad_normal.png         2\n",
       "Name: profile_image_url, dtype: int64"
      ]
     },
     "metadata": {},
     "output_type": "display_data"
    },
    {
     "name": "stdout",
     "output_type": "stream",
     "text": [
      "\n",
      "~~~ following ~~~\n"
     ]
    },
    {
     "data": {
      "text/plain": [
       "False    44591\n",
       "True         4\n",
       "Name: following, dtype: int64"
      ]
     },
     "metadata": {},
     "output_type": "display_data"
    },
    {
     "name": "stdout",
     "output_type": "stream",
     "text": [
      "\n",
      "~~~ geo_enabled ~~~\n"
     ]
    },
    {
     "data": {
      "text/plain": [
       "False    32214\n",
       "True     12381\n",
       "Name: geo_enabled, dtype: int64"
      ]
     },
     "metadata": {},
     "output_type": "display_data"
    },
    {
     "name": "stdout",
     "output_type": "stream",
     "text": [
      "\n",
      "~~~ profile_banner_url ~~~\n"
     ]
    },
    {
     "data": {
      "text/plain": [
       "NaN                                                          7946\n",
       "https://pbs.twimg.com/profile_banners/93719349/1508895371       2\n",
       "https://pbs.twimg.com/profile_banners/25382962/1368400797       2\n",
       "https://pbs.twimg.com/profile_banners/65773523/1488131239       2\n",
       "https://pbs.twimg.com/profile_banners/33923443/1515039960       2\n",
       "Name: profile_banner_url, dtype: int64"
      ]
     },
     "metadata": {},
     "output_type": "display_data"
    },
    {
     "name": "stdout",
     "output_type": "stream",
     "text": [
      "\n",
      "~~~ profile_background_image_url ~~~\n"
     ]
    },
    {
     "data": {
      "text/plain": [
       "http://abs.twimg.com/images/themes/theme1/bg.png     27607\n",
       "NaN                                                   4948\n",
       "http://abs.twimg.com/images/themes/theme14/bg.gif     1513\n",
       "http://abs.twimg.com/images/themes/theme9/bg.gif       973\n",
       "http://abs.twimg.com/images/themes/theme10/bg.gif      579\n",
       "Name: profile_background_image_url, dtype: int64"
      ]
     },
     "metadata": {},
     "output_type": "display_data"
    },
    {
     "name": "stdout",
     "output_type": "stream",
     "text": [
      "\n",
      "~~~ screen_name ~~~\n"
     ]
    },
    {
     "data": {
      "text/plain": [
       "HamillHimself      3\n",
       "JLo                2\n",
       "DoveCameron        2\n",
       "KatherynWinnick    2\n",
       "justinbieber       2\n",
       "Name: screen_name, dtype: int64"
      ]
     },
     "metadata": {},
     "output_type": "display_data"
    },
    {
     "name": "stdout",
     "output_type": "stream",
     "text": [
      "\n",
      "~~~ lang ~~~\n"
     ]
    },
    {
     "data": {
      "text/plain": [
       "en     26429\n",
       "NaN     2683\n",
       "es      2519\n",
       "pt      1891\n",
       "it      1440\n",
       "Name: lang, dtype: int64"
      ]
     },
     "metadata": {},
     "output_type": "display_data"
    },
    {
     "name": "stdout",
     "output_type": "stream",
     "text": [
      "\n",
      "~~~ profile_background_tile ~~~\n"
     ]
    },
    {
     "data": {
      "text/plain": [
       "False    37046\n",
       "True      7549\n",
       "Name: profile_background_tile, dtype: int64"
      ]
     },
     "metadata": {},
     "output_type": "display_data"
    },
    {
     "name": "stdout",
     "output_type": "stream",
     "text": [
      "\n",
      "~~~ favourites_count ~~~\n"
     ]
    },
    {
     "data": {
      "text/plain": [
       "0      759\n",
       "1      237\n",
       "2      160\n",
       "3      122\n",
       "133    122\n",
       "Name: favourites_count, dtype: int64"
      ]
     },
     "metadata": {},
     "output_type": "display_data"
    },
    {
     "name": "stdout",
     "output_type": "stream",
     "text": [
      "\n",
      "~~~ name ~~~\n"
     ]
    },
    {
     "data": {
      "text/plain": [
       ".       51\n",
       "Alex    12\n",
       "B       10\n",
       "Mike     7\n",
       "A        6\n",
       "Name: name, dtype: int64"
      ]
     },
     "metadata": {},
     "output_type": "display_data"
    },
    {
     "name": "stdout",
     "output_type": "stream",
     "text": [
      "\n",
      "~~~ notifications ~~~\n"
     ]
    },
    {
     "data": {
      "text/plain": [
       "False    44595\n",
       "Name: notifications, dtype: int64"
      ]
     },
     "metadata": {},
     "output_type": "display_data"
    },
    {
     "name": "stdout",
     "output_type": "stream",
     "text": [
      "\n",
      "~~~ url ~~~\n"
     ]
    },
    {
     "data": {
      "text/plain": [
       "NaN                        31969\n",
       "https://t.co/mAixJrdlV1       13\n",
       "http://t.co/ap5l34TcZV        11\n",
       "http://t.co/jYvqmtPizF         6\n",
       "http://t.co/jYvqmu7rNN         4\n",
       "Name: url, dtype: int64"
      ]
     },
     "metadata": {},
     "output_type": "display_data"
    },
    {
     "name": "stdout",
     "output_type": "stream",
     "text": [
      "\n",
      "~~~ created_at ~~~\n"
     ]
    },
    {
     "data": {
      "text/plain": [
       "Tue May 24 22:52:49 +0000 2011    3\n",
       "Mon Apr 20 18:36:09 +0000 2009    3\n",
       "Tue Jan 11 18:30:34 +0000 2011    2\n",
       "Sat Feb 14 05:56:28 +0000 2009    2\n",
       "Thu Mar 19 20:53:02 +0000 2009    2\n",
       "Name: created_at, dtype: int64"
      ]
     },
     "metadata": {},
     "output_type": "display_data"
    },
    {
     "name": "stdout",
     "output_type": "stream",
     "text": [
      "\n",
      "~~~ contributors_enabled ~~~\n"
     ]
    },
    {
     "data": {
      "text/plain": [
       "False    44595\n",
       "Name: contributors_enabled, dtype: int64"
      ]
     },
     "metadata": {},
     "output_type": "display_data"
    },
    {
     "name": "stdout",
     "output_type": "stream",
     "text": [
      "\n",
      "~~~ time_zone ~~~\n"
     ]
    },
    {
     "data": {
      "text/plain": [
       "NaN                           36200\n",
       "Pacific Time (US & Canada)     1553\n",
       "Eastern Time (US & Canada)      890\n",
       "Central Time (US & Canada)      527\n",
       "Brasilia                        402\n",
       "Name: time_zone, dtype: int64"
      ]
     },
     "metadata": {},
     "output_type": "display_data"
    },
    {
     "name": "stdout",
     "output_type": "stream",
     "text": [
      "\n",
      "~~~ protected ~~~\n"
     ]
    },
    {
     "data": {
      "text/plain": [
       "False    44595\n",
       "Name: protected, dtype: int64"
      ]
     },
     "metadata": {},
     "output_type": "display_data"
    },
    {
     "name": "stdout",
     "output_type": "stream",
     "text": [
      "\n",
      "~~~ default_profile ~~~\n"
     ]
    },
    {
     "data": {
      "text/plain": [
       "True     26880\n",
       "False    17715\n",
       "Name: default_profile, dtype: int64"
      ]
     },
     "metadata": {},
     "output_type": "display_data"
    },
    {
     "name": "stdout",
     "output_type": "stream",
     "text": [
      "\n",
      "~~~ is_translator ~~~\n"
     ]
    },
    {
     "data": {
      "text/plain": [
       "False    44585\n",
       "True        10\n",
       "Name: is_translator, dtype: int64"
      ]
     },
     "metadata": {},
     "output_type": "display_data"
    },
    {
     "name": "stdout",
     "output_type": "stream",
     "text": [
      "\n",
      "~~~ species ~~~\n"
     ]
    },
    {
     "data": {
      "text/plain": [
       "bot      28389\n",
       "human    16206\n",
       "Name: species, dtype: int64"
      ]
     },
     "metadata": {},
     "output_type": "display_data"
    },
    {
     "name": "stdout",
     "output_type": "stream",
     "text": [
      "\n",
      "~~~ source ~~~\n"
     ]
    },
    {
     "data": {
      "text/plain": [
       "pronbots-2019        17881\n",
       "cresci-stock-2018    13275\n",
       "celebrity-2019        5917\n",
       "gilani-2017           2483\n",
       "verified-2019         1986\n",
       "Name: source, dtype: int64"
      ]
     },
     "metadata": {},
     "output_type": "display_data"
    },
    {
     "name": "stdout",
     "output_type": "stream",
     "text": [
      "\n"
     ]
    }
   ],
   "source": [
    "for col in hashable_raw_data.columns:\n",
    "    print('~~~', col, '~~~')\n",
    "    display(hashable_raw_data[col].value_counts(dropna=False).head(5))\n",
    "    print()"
   ]
  },
  {
   "cell_type": "markdown",
   "metadata": {},
   "source": [
    "Looking at this, I think the following attributes would be worth using in a model. I included in square brackets any pre-processing we'd have to do.\n",
    "\n",
    "* has_extended_profile\n",
    "* profile_use_background_image\n",
    "* profile_background_image_url_https [consider categorical: equal to theme1, theme14, NaN, or other]\n",
    "* verified\n",
    "* profile_text_color [consider categorical: either equal to 333333 or not]\n",
    "* profile_sidebar_fill_color [consider categorical: either equal to DDEEF6 or not]\n",
    "* followers_count\n",
    "* profile_sidebar_border_color [consider categorical: either equal to C0DEED, FFFFFF, 000000, or other]\n",
    "* profile_background_color [categorical: equal to C0DEED, F5F8FA, 000000, or other]\n",
    "* listed_count\n",
    "* utc_offset [categorical? UTC offset measured in seconds]\n",
    "* statuses_count\n",
    "* friends_count\n",
    "* profile_link_color [categorical: 1DA1F2 or other]\n",
    "* geo_enabled\n",
    "* profile_background_image_url [categorical: theme1, NaN, or other]\n",
    "* lang [categorical: en or other (maybe NaN, es, pt, it, too)]\n",
    "* profile_background_tile\n",
    "* favourites_count\n",
    "* url (NaN or other)\n",
    "* created at (look at day or week, or at time of day)\n",
    "* time_zone [categorical: NaN or other]\n",
    "* default_profile [boolean]\n",
    "\n",
    "I think withheld_in_countries might also be useful. Not sure."
   ]
  }
 ],
 "metadata": {
  "kernelspec": {
   "display_name": "Python 3",
   "language": "python",
   "name": "python3"
  },
  "language_info": {
   "codemirror_mode": {
    "name": "ipython",
    "version": 3
   },
   "file_extension": ".py",
   "mimetype": "text/x-python",
   "name": "python",
   "nbconvert_exporter": "python",
   "pygments_lexer": "ipython3",
   "version": "3.7.4"
  }
 },
 "nbformat": 4,
 "nbformat_minor": 2
}
