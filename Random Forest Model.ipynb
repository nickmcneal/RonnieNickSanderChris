{
 "cells": [
  {
   "cell_type": "markdown",
   "metadata": {},
   "source": [
    "The goal of this notebook is to train a random_forest classifier on our cleaned dataset.\n",
    "\n",
    "Here is a link to a data dictionary (which explains what the column names mean): https://developer.twitter.com/en/docs/tweets/data-dictionary/overview/user-object.\n",
    "\n",
    "See notebooks 4, 5, and 6 from the Classification lectures.\n",
    "\n",
    "- [x] Implement a basic train-test split\n",
    "- [x] Sample the data for training\n",
    "- [x] Train one model\n",
    "- [x] Quantify the model's accuracy\n",
    "- [x] Monkey with hyperparameters, etc.\n",
    "- [x] Make a more sophisticated train-test split\n",
    "- [ ] Implement K-fold cross validation\n",
    "- [ ] Create a proper scikit-learn pipeline\n",
    "- [ ] Make some decent visualizations\n",
    "- [ ] Add the categorical variables to dataframe (starting by making binary categories into boolean variables)\n",
    "- [ ] One-hot encode the categorical variables, if necessary\n",
    "- [ ] Examine feature importance\n",
    "- [ ] Examine AUC"
   ]
  },
  {
   "cell_type": "markdown",
   "metadata": {},
   "source": [
    "## Front matter"
   ]
  },
  {
   "cell_type": "code",
   "execution_count": 90,
   "metadata": {},
   "outputs": [],
   "source": [
    "from pathlib import Path # For navigating to the datafiles\n",
    "import json # For processing json files\n",
    "import csv # For processing csv files\n",
    "\n",
    "from functools import reduce # So Chris can pretend he's a CS major\n",
    "\n",
    "import pandas as pd\n",
    "import numpy as np\n",
    "\n",
    "from sklearn.ensemble import RandomForestClassifier\n",
    "from sklearn.model_selection import train_test_split\n",
    "\n",
    "import matplotlib.pyplot as plt # For simple graphing\n",
    "import seaborn as sns # For sns.set_style(\"whitegrid\"), I guess?\n",
    "\n",
    "## This sets the plot style\n",
    "## to have a grid on a white background\n",
    "sns.set_style(\"whitegrid\")"
   ]
  },
  {
   "cell_type": "markdown",
   "metadata": {},
   "source": [
    "## Prepare data"
   ]
  },
  {
   "cell_type": "code",
   "execution_count": 3,
   "metadata": {},
   "outputs": [
    {
     "name": "stdout",
     "output_type": "stream",
     "text": [
      "10\n"
     ]
    }
   ],
   "source": [
    "# Read \"well_formatted_json_files.txt\"\n",
    "\n",
    "data_files_to_read_path = Path('well_formatted_json_files.txt')\n",
    "with open(data_files_to_read_path) as file:\n",
    "    lines = file.read().splitlines()\n",
    "    # Remove commented lines and blank lines:\n",
    "    lines = [li for li in lines if ((li[0] != '#') and ( li.strip()))]\n",
    "    print(len(lines))"
   ]
  },
  {
   "cell_type": "code",
   "execution_count": 4,
   "metadata": {},
   "outputs": [],
   "source": [
    "# Read in json and tsv files\n",
    "\n",
    "data_path = Path('data')\n",
    "\n",
    "l = list()\n",
    "for li in lines:\n",
    "    # Read into dataframes\n",
    "    \n",
    "    json_path = data_path / Path(li + '_tweets.json')\n",
    "    with open(json_path) as file:\n",
    "        very_raw_json_contents = json.load(file)\n",
    "    raw_json_contents = [x['user'] for x in very_raw_json_contents]\n",
    "    json_contents = pd.DataFrame(raw_json_contents)\n",
    "    tsv_path = data_path / Path(li + '.tsv')\n",
    "    tsv_contents = pd.read_csv(tsv_path, sep='\\t')\n",
    "    tsv_contents.columns = ['user_id','species']\n",
    "    \n",
    "    # Set indexes to user ids and remove duplicate indices\n",
    "        \n",
    "    json_contents = json_contents.set_index('id')\n",
    "    tsv_contents = tsv_contents.set_index('user_id')\n",
    "    json_contents = json_contents.loc[~json_contents.index.duplicated(keep='last')]\n",
    "    tsv_contents = tsv_contents.loc[~tsv_contents.index.duplicated(keep='last')]\n",
    "    \n",
    "    # Merge\n",
    "    \n",
    "    merged_data = pd.concat([json_contents, tsv_contents], join='inner', axis = 1)\n",
    "    merged_data = merged_data.assign(source=li)\n",
    "    \n",
    "    l.append(merged_data)\n",
    "\n",
    "\n",
    "cumulative_raw_data = reduce(lambda x, y : pd.concat([x,y]), l)"
   ]
  },
  {
   "cell_type": "code",
   "execution_count": 5,
   "metadata": {
    "scrolled": true
   },
   "outputs": [
    {
     "data": {
      "text/html": [
       "<div>\n",
       "<style scoped>\n",
       "    .dataframe tbody tr th:only-of-type {\n",
       "        vertical-align: middle;\n",
       "    }\n",
       "\n",
       "    .dataframe tbody tr th {\n",
       "        vertical-align: top;\n",
       "    }\n",
       "\n",
       "    .dataframe thead th {\n",
       "        text-align: right;\n",
       "    }\n",
       "</style>\n",
       "<table border=\"1\" class=\"dataframe\">\n",
       "  <thead>\n",
       "    <tr style=\"text-align: right;\">\n",
       "      <th></th>\n",
       "      <th>has_extended_profile</th>\n",
       "      <th>profile_use_background_image</th>\n",
       "      <th>profile_background_image_url_https</th>\n",
       "      <th>verified</th>\n",
       "      <th>profile_text_color</th>\n",
       "      <th>profile_sidebar_fill_color</th>\n",
       "      <th>followers_count</th>\n",
       "      <th>profile_sidebar_border_color</th>\n",
       "      <th>profile_background_color</th>\n",
       "      <th>listed_count</th>\n",
       "      <th>...</th>\n",
       "      <th>geo_enabled</th>\n",
       "      <th>profile_background_image_url</th>\n",
       "      <th>lang</th>\n",
       "      <th>profile_background_tile</th>\n",
       "      <th>favourites_count</th>\n",
       "      <th>url</th>\n",
       "      <th>created_at</th>\n",
       "      <th>time_zone</th>\n",
       "      <th>default_profile</th>\n",
       "      <th>friends_count</th>\n",
       "    </tr>\n",
       "  </thead>\n",
       "  <tbody>\n",
       "    <tr>\n",
       "      <th>852512004</th>\n",
       "      <td>False</td>\n",
       "      <td>True</td>\n",
       "      <td>https://abs.twimg.com/images/themes/theme1/bg.png</td>\n",
       "      <td>False</td>\n",
       "      <td>333333</td>\n",
       "      <td>DDEEF6</td>\n",
       "      <td>17</td>\n",
       "      <td>C0DEED</td>\n",
       "      <td>C0DEED</td>\n",
       "      <td>0</td>\n",
       "      <td>...</td>\n",
       "      <td>True</td>\n",
       "      <td>http://abs.twimg.com/images/themes/theme1/bg.png</td>\n",
       "      <td>pl</td>\n",
       "      <td>False</td>\n",
       "      <td>117</td>\n",
       "      <td>None</td>\n",
       "      <td>Sat Sep 29 08:52:13 +0000 2012</td>\n",
       "      <td>Brussels</td>\n",
       "      <td>True</td>\n",
       "      <td>0</td>\n",
       "    </tr>\n",
       "    <tr>\n",
       "      <th>124735548</th>\n",
       "      <td>False</td>\n",
       "      <td>True</td>\n",
       "      <td>https://abs.twimg.com/images/themes/theme1/bg.png</td>\n",
       "      <td>False</td>\n",
       "      <td>333333</td>\n",
       "      <td>DDEEF6</td>\n",
       "      <td>118</td>\n",
       "      <td>C0DEED</td>\n",
       "      <td>C0DEED</td>\n",
       "      <td>5</td>\n",
       "      <td>...</td>\n",
       "      <td>False</td>\n",
       "      <td>http://abs.twimg.com/images/themes/theme1/bg.png</td>\n",
       "      <td>en</td>\n",
       "      <td>False</td>\n",
       "      <td>1984</td>\n",
       "      <td>None</td>\n",
       "      <td>Sat Mar 20 11:32:59 +0000 2010</td>\n",
       "      <td>None</td>\n",
       "      <td>True</td>\n",
       "      <td>352</td>\n",
       "    </tr>\n",
       "    <tr>\n",
       "      <th>120557765</th>\n",
       "      <td>False</td>\n",
       "      <td>True</td>\n",
       "      <td>https://abs.twimg.com/images/themes/theme9/bg.gif</td>\n",
       "      <td>True</td>\n",
       "      <td>666666</td>\n",
       "      <td>252429</td>\n",
       "      <td>2872283</td>\n",
       "      <td>181A1E</td>\n",
       "      <td>1A1B1F</td>\n",
       "      <td>8221</td>\n",
       "      <td>...</td>\n",
       "      <td>False</td>\n",
       "      <td>http://abs.twimg.com/images/themes/theme9/bg.gif</td>\n",
       "      <td>en</td>\n",
       "      <td>False</td>\n",
       "      <td>376</td>\n",
       "      <td>https://t.co/rJixLu4cJy</td>\n",
       "      <td>Sat Mar 06 20:33:05 +0000 2010</td>\n",
       "      <td>Alaska</td>\n",
       "      <td>False</td>\n",
       "      <td>1816</td>\n",
       "    </tr>\n",
       "  </tbody>\n",
       "</table>\n",
       "<p>3 rows × 23 columns</p>\n",
       "</div>"
      ],
      "text/plain": [
       "           has_extended_profile  profile_use_background_image  \\\n",
       "852512004                 False                          True   \n",
       "124735548                 False                          True   \n",
       "120557765                 False                          True   \n",
       "\n",
       "                          profile_background_image_url_https  verified  \\\n",
       "852512004  https://abs.twimg.com/images/themes/theme1/bg.png     False   \n",
       "124735548  https://abs.twimg.com/images/themes/theme1/bg.png     False   \n",
       "120557765  https://abs.twimg.com/images/themes/theme9/bg.gif      True   \n",
       "\n",
       "          profile_text_color profile_sidebar_fill_color  followers_count  \\\n",
       "852512004             333333                     DDEEF6               17   \n",
       "124735548             333333                     DDEEF6              118   \n",
       "120557765             666666                     252429          2872283   \n",
       "\n",
       "          profile_sidebar_border_color profile_background_color  listed_count  \\\n",
       "852512004                       C0DEED                   C0DEED             0   \n",
       "124735548                       C0DEED                   C0DEED             5   \n",
       "120557765                       181A1E                   1A1B1F          8221   \n",
       "\n",
       "           ... geo_enabled                      profile_background_image_url  \\\n",
       "852512004  ...        True  http://abs.twimg.com/images/themes/theme1/bg.png   \n",
       "124735548  ...       False  http://abs.twimg.com/images/themes/theme1/bg.png   \n",
       "120557765  ...       False  http://abs.twimg.com/images/themes/theme9/bg.gif   \n",
       "\n",
       "          lang  profile_background_tile favourites_count  \\\n",
       "852512004   pl                    False              117   \n",
       "124735548   en                    False             1984   \n",
       "120557765   en                    False              376   \n",
       "\n",
       "                               url                      created_at  time_zone  \\\n",
       "852512004                     None  Sat Sep 29 08:52:13 +0000 2012   Brussels   \n",
       "124735548                     None  Sat Mar 20 11:32:59 +0000 2010       None   \n",
       "120557765  https://t.co/rJixLu4cJy  Sat Mar 06 20:33:05 +0000 2010     Alaska   \n",
       "\n",
       "          default_profile friends_count  \n",
       "852512004            True             0  \n",
       "124735548            True           352  \n",
       "120557765           False          1816  \n",
       "\n",
       "[3 rows x 23 columns]"
      ]
     },
     "execution_count": 5,
     "metadata": {},
     "output_type": "execute_result"
    }
   ],
   "source": [
    "columns_to_keep = ['has_extended_profile','profile_use_background_image','profile_background_image_url_https','verified','profile_text_color','profile_sidebar_fill_color','followers_count','profile_sidebar_border_color','profile_background_color','listed_count','utc_offset','statuses_count','profile_link_color','geo_enabled','profile_background_image_url','lang','profile_background_tile','favourites_count','url','created_at','time_zone','default_profile','friends_count']\n",
    "\n",
    "target = cumulative_raw_data['species'] == 'bot'\n",
    "# old code: target = np.asarray([cumulative_raw_data['species'] == 'bot']).reshape(-1,1)\n",
    "source = cumulative_raw_data['source']\n",
    "cut_raw_data = cumulative_raw_data[columns_to_keep]\n",
    "\n",
    "cut_raw_data.sample(3)"
   ]
  },
  {
   "cell_type": "code",
   "execution_count": 117,
   "metadata": {},
   "outputs": [
    {
     "data": {
      "text/html": [
       "<div>\n",
       "<style scoped>\n",
       "    .dataframe tbody tr th:only-of-type {\n",
       "        vertical-align: middle;\n",
       "    }\n",
       "\n",
       "    .dataframe tbody tr th {\n",
       "        vertical-align: top;\n",
       "    }\n",
       "\n",
       "    .dataframe thead th {\n",
       "        text-align: right;\n",
       "    }\n",
       "</style>\n",
       "<table border=\"1\" class=\"dataframe\">\n",
       "  <thead>\n",
       "    <tr style=\"text-align: right;\">\n",
       "      <th></th>\n",
       "      <th>favourites_count</th>\n",
       "      <th>statuses_count</th>\n",
       "      <th>friends_count</th>\n",
       "      <th>followers_count</th>\n",
       "      <th>listed_count</th>\n",
       "      <th>profile_background_tile</th>\n",
       "      <th>default_profile</th>\n",
       "      <th>geo_enabled</th>\n",
       "      <th>verified</th>\n",
       "      <th>has_extended_profile</th>\n",
       "      <th>profile_use_background_image</th>\n",
       "    </tr>\n",
       "  </thead>\n",
       "  <tbody>\n",
       "    <tr>\n",
       "      <th>1870916851</th>\n",
       "      <td>132</td>\n",
       "      <td>30</td>\n",
       "      <td>0</td>\n",
       "      <td>1</td>\n",
       "      <td>0</td>\n",
       "      <td>False</td>\n",
       "      <td>True</td>\n",
       "      <td>False</td>\n",
       "      <td>False</td>\n",
       "      <td>False</td>\n",
       "      <td>True</td>\n",
       "    </tr>\n",
       "    <tr>\n",
       "      <th>340052871</th>\n",
       "      <td>2497</td>\n",
       "      <td>7452</td>\n",
       "      <td>183</td>\n",
       "      <td>199</td>\n",
       "      <td>0</td>\n",
       "      <td>True</td>\n",
       "      <td>False</td>\n",
       "      <td>True</td>\n",
       "      <td>False</td>\n",
       "      <td>False</td>\n",
       "      <td>True</td>\n",
       "    </tr>\n",
       "    <tr>\n",
       "      <th>156031870</th>\n",
       "      <td>6635</td>\n",
       "      <td>19851</td>\n",
       "      <td>146</td>\n",
       "      <td>259</td>\n",
       "      <td>4</td>\n",
       "      <td>True</td>\n",
       "      <td>False</td>\n",
       "      <td>True</td>\n",
       "      <td>False</td>\n",
       "      <td>True</td>\n",
       "      <td>True</td>\n",
       "    </tr>\n",
       "  </tbody>\n",
       "</table>\n",
       "</div>"
      ],
      "text/plain": [
       "            favourites_count  statuses_count  friends_count  followers_count  \\\n",
       "1870916851               132              30              0                1   \n",
       "340052871               2497            7452            183              199   \n",
       "156031870               6635           19851            146              259   \n",
       "\n",
       "            listed_count  profile_background_tile  default_profile  \\\n",
       "1870916851             0                    False             True   \n",
       "340052871              0                     True            False   \n",
       "156031870              4                     True            False   \n",
       "\n",
       "            geo_enabled  verified  has_extended_profile  \\\n",
       "1870916851        False     False                 False   \n",
       "340052871          True     False                 False   \n",
       "156031870          True     False                  True   \n",
       "\n",
       "            profile_use_background_image  \n",
       "1870916851                          True  \n",
       "340052871                           True  \n",
       "156031870                           True  "
      ]
     },
     "metadata": {},
     "output_type": "display_data"
    },
    {
     "name": "stdout",
     "output_type": "stream",
     "text": [
      "(44595, 11)\n"
     ]
    }
   ],
   "source": [
    "# Keep numerical and boolean attributes. Throw out the categorical, etc.\n",
    "\n",
    "numerical_cols = ['favourites_count','statuses_count','friends_count','followers_count','listed_count']\n",
    "boolean_cols = ['profile_background_tile','default_profile','geo_enabled','verified','has_extended_profile','profile_use_background_image']\n",
    "\n",
    "assert set(numerical_cols) <= set(cut_raw_data.columns)\n",
    "assert set(boolean_cols) <= set(cut_raw_data.columns)\n",
    "\n",
    "cleaned_data = cut_raw_data[numerical_cols + boolean_cols]\n",
    "\n",
    "display(cleaned_data.sample(3, random_state=855))\n",
    "print(cleaned_data.shape)"
   ]
  },
  {
   "cell_type": "code",
   "execution_count": 118,
   "metadata": {},
   "outputs": [
    {
     "name": "stdout",
     "output_type": "stream",
     "text": [
      "measuring description lengths\n",
      "done measuring description lengths\n",
      "measuring username lengths\n",
      "done measuring username lengths\n"
     ]
    }
   ],
   "source": [
    "# Encode and add one or two more variables\n",
    "\n",
    "has_url = ~cut_raw_data.url.isnull()\n",
    "cleaned_data = cleaned_data.assign(has_url=has_url)\n",
    "\n",
    "is_eng = cut_raw_data.lang == 'en'\n",
    "cleaned_data = cleaned_data.assign(is_eng=is_eng)\n",
    "\n",
    "cleaned_data = cleaned_data.assign(default_link_clr=(cumulative_raw_data.profile_link_color == '1DA1F2'))\n",
    "\n",
    "cleaned_data = cleaned_data.assign(default_text_clr=(cumulative_raw_data.profile_text_color == '333333'))\n",
    "\n",
    "theme1 = [(x is not None and 'theme1' in x) for x in cumulative_raw_data.profile_background_image_url]\n",
    "themeNone = [x is None for x in cumulative_raw_data.profile_background_image_url]\n",
    "cleaned_data = cleaned_data.assign(bkground_theme1=theme1)\n",
    "cleaned_data = cleaned_data.assign(bkground_none=themeNone)\n",
    "\n",
    "cleaned_data = cleaned_data.assign(bkground_C0DEED=cumulative_raw_data.profile_background_color=='C0DEED')\n",
    "cleaned_data = cleaned_data.assign(bkground_F5F8FA=cumulative_raw_data.profile_background_color=='F5F8FA')\n",
    "cleaned_data = cleaned_data.assign(bkground_000000=cumulative_raw_data.profile_background_color=='000000')\n",
    "\n",
    "print('measuring description lengths')\n",
    "cleaned_data = cleaned_data.assign(desc_len=[len(x) for x in cumulative_raw_data['description']])\n",
    "print('done measuring description lengths')\n",
    "\n",
    "print('measuring username lengths')\n",
    "cleaned_data = cleaned_data.assign(name_len=[len(x) for x in cumulative_raw_data['name']])\n",
    "print('done measuring username lengths')"
   ]
  },
  {
   "cell_type": "code",
   "execution_count": 121,
   "metadata": {},
   "outputs": [
    {
     "data": {
      "text/plain": [
       "False    41062\n",
       "True      3533\n",
       "Name: bkground_000000, dtype: int64"
      ]
     },
     "execution_count": 121,
     "metadata": {},
     "output_type": "execute_result"
    }
   ],
   "source": [
    "cleaned_data.bkground_000000.value_counts().head()"
   ]
  },
  {
   "cell_type": "markdown",
   "metadata": {},
   "source": [
    "NUMERICAL:\n",
    "\n",
    "* favourites_count\n",
    "* statuses_count\n",
    "* friends_count\n",
    "* followers_count\n",
    "* listed_count\n",
    "* desc_len\n",
    "* name_len\n",
    "\n",
    "BOOLEAN:\n",
    "\n",
    "* profile_background_tile\n",
    "* default_profile [boolean]\n",
    "* geo_enabled\n",
    "* verified\n",
    "* has_extended_profile\n",
    "* profile_use_background_image\n",
    "\n",
    "CATEGORICAL (ADDED):\n",
    "\n",
    "* url (added as boolean \"has_url\")\n",
    "* lang (added as boolean \"is_eng\")\n",
    "* profile_link_color [categorical: 1DA1F2 or other]\n",
    "* profile_text_color [consider categorical: either equal to 333333 or not]\n",
    "* bkground_theme1 (profile_background_image_url [categorical: theme1, NaN, or other])\n",
    "* bkground_none (profile_background_image_url [categorical: theme1, NaN, or other])\n",
    "* profile_background_color [categorical: equal to C0DEED, F5F8FA, 000000, or other]\n",
    " * bkground_C0DEEED\n",
    " * bkground_F5F8FA\n",
    " * bkground_000000\n",
    "\n",
    "CATEGORICAL (NOT YET ADDED):\n",
    "\n",
    "* profile_background_image_url_https [consider categorical: equal to theme1, theme14, NaN, or other]\n",
    "* profile_sidebar_border_color [consider categorical: either equal to C0DEED, FFFFFF, 000000, or other]\n",
    "* profile_sidebar_fill_color [consider categorical: either equal to DDEEF6 or not]\n",
    "\n",
    "WEIRD/OTHER (NOT GOING TO BE ADDED)\n",
    "\n",
    "* utc_offset [categorical? UTC offset measured in seconds]\n",
    "* created at [look at day or week, or at time of day]\n",
    "* time_zone [categorical: NaN or other]"
   ]
  },
  {
   "cell_type": "code",
   "execution_count": 83,
   "metadata": {},
   "outputs": [
    {
     "data": {
      "text/plain": [
       "False    31969\n",
       "True     12626\n",
       "Name: has_url, dtype: int64"
      ]
     },
     "execution_count": 83,
     "metadata": {},
     "output_type": "execute_result"
    }
   ],
   "source": [
    "cleaned_data.has_url.value_counts()"
   ]
  },
  {
   "cell_type": "markdown",
   "metadata": {},
   "source": [
    "## Train model"
   ]
  },
  {
   "cell_type": "markdown",
   "metadata": {},
   "source": [
    "The train-test split stratifies by target right now, and not by source. We should stratify by both. (Note to Chris: Think of stratifying by a source-target ordered pair.)"
   ]
  },
  {
   "cell_type": "code",
   "execution_count": 71,
   "metadata": {},
   "outputs": [],
   "source": [
    "# This is an array of ordered pairs. Each pair combines the bot/human value of\n",
    "# an account with the source dataset from which the account came. We need this\n",
    "# so that train_test_split can stratify by bot/human value AND data source.\n",
    "\n",
    "# This codeblock takes ten seconds to run on my PC.\n",
    "\n",
    "stratify_guide = np.asarray([(target[acct],source[acct]) for acct in cleaned_data.index]).reshape(-1,1)"
   ]
  },
  {
   "cell_type": "code",
   "execution_count": 72,
   "metadata": {},
   "outputs": [],
   "source": [
    "# Train test split\n",
    "\n",
    "X_train,X_test,y_train,y_test = train_test_split(cleaned_data[['favourites_count']],\n",
    "                                                target,\n",
    "                                                train_size=0.75,\n",
    "                                                shuffle=True,\n",
    "                                                stratify=target,\n",
    "                                                random_state=855)"
   ]
  },
  {
   "cell_type": "markdown",
   "metadata": {},
   "source": [
    "I tried hyperparameter tuning of `rf_model` but I couldn't really get the accuracy to budge. Adding more attributes to the training data would probably help."
   ]
  },
  {
   "cell_type": "code",
   "execution_count": 75,
   "metadata": {},
   "outputs": [
    {
     "data": {
      "text/plain": [
       "RandomForestClassifier(bootstrap=True, class_weight=None, criterion='entropy',\n",
       "                       max_depth=None, max_features='auto', max_leaf_nodes=None,\n",
       "                       min_impurity_decrease=0.0, min_impurity_split=None,\n",
       "                       min_samples_leaf=1, min_samples_split=2,\n",
       "                       min_weight_fraction_leaf=0.0, n_estimators=100,\n",
       "                       n_jobs=None, oob_score=False, random_state=None,\n",
       "                       verbose=0, warm_start=False)"
      ]
     },
     "execution_count": 75,
     "metadata": {},
     "output_type": "execute_result"
    }
   ],
   "source": [
    "rf_model = RandomForestClassifier(n_estimators = 100,\n",
    "                                  max_features = 'auto',\n",
    "                                  criterion='entropy')\n",
    "rf_model.fit(X_train,y_train)"
   ]
  },
  {
   "cell_type": "markdown",
   "metadata": {},
   "source": [
    "## Test model\n",
    "\n",
    "y is True for bots, False for humans"
   ]
  },
  {
   "cell_type": "code",
   "execution_count": 76,
   "metadata": {},
   "outputs": [
    {
     "name": "stdout",
     "output_type": "stream",
     "text": [
      "overall accuracy: 0.7233832630729213\n",
      "\n",
      "vendor-purchased-2019\n",
      "accuracy: 0.16022099447513813\n",
      "\n",
      "verified-2019\n",
      "accuracy: 0.1691842900302115\n",
      "\n",
      "botwiki-2019\n",
      "accuracy: 0.18794835007173602\n",
      "\n",
      "cresci-rtbust-2019\n",
      "accuracy: 0.12572254335260116\n",
      "\n",
      "celebrity-2019\n",
      "accuracy: 0.11441608923440932\n",
      "\n",
      "cresci-stock-2018\n",
      "accuracy: 0.14847457627118643\n",
      "\n",
      "pronbots-2019\n",
      "accuracy: 0.23896873776634417\n",
      "\n",
      "botometer-feedback-2019\n",
      "accuracy: 0.1276595744680851\n",
      "\n",
      "political-bots-2019\n",
      "accuracy: 0.22950819672131148\n",
      "\n",
      "gilani-2017\n",
      "accuracy: 0.15787354007249296\n",
      "\n"
     ]
    }
   ],
   "source": [
    "pred = rf_model.predict(X_test)\n",
    "print('overall accuracy:', np.sum(pred == y_test)/len(y_test))\n",
    "print()\n",
    "\n",
    "for src in set(source.values):\n",
    "    print(src)\n",
    "    print('accuracy:', np.sum( (pred == y_test) & (source == src) )/source.value_counts()[src])\n",
    "    print()"
   ]
  },
  {
   "cell_type": "code",
   "execution_count": null,
   "metadata": {},
   "outputs": [],
   "source": []
  }
 ],
 "metadata": {
  "kernelspec": {
   "display_name": "Python 3",
   "language": "python",
   "name": "python3"
  },
  "language_info": {
   "codemirror_mode": {
    "name": "ipython",
    "version": 3
   },
   "file_extension": ".py",
   "mimetype": "text/x-python",
   "name": "python",
   "nbconvert_exporter": "python",
   "pygments_lexer": "ipython3",
   "version": "3.7.4"
  }
 },
 "nbformat": 4,
 "nbformat_minor": 2
}
